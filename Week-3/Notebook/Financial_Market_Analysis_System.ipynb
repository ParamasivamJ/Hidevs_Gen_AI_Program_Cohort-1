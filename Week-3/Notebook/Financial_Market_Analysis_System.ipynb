{
 "cells": [
  {
   "cell_type": "code",
   "execution_count": null,
   "metadata": {
    "id": "BBFJJ7nSyujj"
   },
   "outputs": [],
   "source": [
    "!pip install yfinance neo4j\n"
   ]
  },
  {
   "cell_type": "code",
   "execution_count": 3,
   "metadata": {
    "id": "UWESG7NDzCQD"
   },
   "outputs": [],
   "source": [
    "import json\n",
    "from neo4j import GraphDatabase\n",
    "import yfinance as yf"
   ]
  },
  {
   "cell_type": "code",
   "execution_count": 6,
   "metadata": {
    "id": "9x8eVTri1pGy"
   },
   "outputs": [],
   "source": [
    "import os\n",
    "\n",
    "os.environ['NEO4J_BOLT_URL'] = 'neo4j+s://a1da7ed4.databases.neo4j.io'\n",
    "os.environ['NEO4J_USERNAME'] = 'neo4j'\n",
    "os.environ['NEO4J_PASSWORD'] = '7LDKGkEurm8Yge_dGcAn224X4om-eV9GkiaU0hQ2Oc'\n",
    "\n",
    "bolt_url = os.environ.get('NEO4J_BOLT_URL')\n",
    "username = os.environ.get('NEO4J_USERNAME')\n",
    "password = os.environ.get('NEO4J_PASSWORD')"
   ]
  },
  {
   "cell_type": "code",
   "execution_count": 7,
   "metadata": {
    "colab": {
     "base_uri": "https://localhost:8080/"
    },
    "id": "4JOcGRV-0MQu",
    "outputId": "d8419332-8ba0-48e9-89c3-4be0fc0af46e"
   },
   "outputs": [
    {
     "name": "stdout",
     "output_type": "stream",
     "text": [
      "Connection Successful\n"
     ]
    }
   ],
   "source": [
    "# Neo4j driver\n",
    "driver = GraphDatabase.driver(bolt_url, auth=(username, password))\n",
    "\n",
    "def test_connection():\n",
    "    try:\n",
    "        with driver.session() as session:\n",
    "            greeting = session.run(\"RETURN 'Connection Successful' AS message\").single()[\"message\"]\n",
    "            print(greeting)\n",
    "    except Exception as e:\n",
    "        print(f\"Connection failed: {e}\")\n",
    "\n",
    "test_connection()"
   ]
  },
  {
   "cell_type": "code",
   "execution_count": 28,
   "metadata": {
    "id": "Om9wFKemzFH4"
   },
   "outputs": [],
   "source": [
    "def store_company_data(tx, company_symbol, historical_data):\n",
    "    # Create or merge the company node\n",
    "    tx.run(\"MERGE (c:Company {symbol: $symbol}) \"\n",
    "           \"SET c.name = $name, c.industry = $industry, c.sector = $sector\",\n",
    "           symbol=company_symbol,\n",
    "           name=historical_data['Name'],\n",
    "           industry=historical_data['Industry'],\n",
    "           sector=historical_data['Sector'])\n",
    "\n",
    "    # nodes for historical prices as StockPrice nodes\n",
    "    for date, price in historical_data['Historical Prices'].items():\n",
    "        if price is not None:  # Check if price is valid\n",
    "            tx.run(\"MERGE (p:StockPrice {date: $date}) \"\n",
    "                   \"MERGE (c:Company {symbol: $symbol}) \"\n",
    "                   \"MERGE (c)-[:HAS_PRICE]->(p) \"\n",
    "                   \"SET p.price = $price\",\n",
    "                   date=date,\n",
    "                   symbol=company_symbol,\n",
    "                   price=price)"
   ]
  },
  {
   "cell_type": "code",
   "execution_count": 29,
   "metadata": {
    "id": "rwZYLT6X27WY"
   },
   "outputs": [],
   "source": [
    "def fetch_and_store_data(companies):\n",
    "    with driver.session() as session:\n",
    "        for company in companies:\n",
    "            try:\n",
    "                # Fetch historical data\n",
    "                stock_data = yf.Ticker(company)\n",
    "                historical_data = stock_data.history(period=\"1y\")\n",
    "                # Prepare historical data for storage\n",
    "                historical_prices = historical_data['Close'].to_dict()  # You can also fetch other data\n",
    "\n",
    "                # Create a dictionary for additional company information\n",
    "                company_info = {\n",
    "                    'Name': stock_data.info.get('longName', ''),\n",
    "                    'Industry': stock_data.info.get('industry', ''),\n",
    "                    'Sector': stock_data.info.get('sector', ''),\n",
    "                    'Historical Prices': historical_prices\n",
    "                }\n",
    "\n",
    "                # Store data in Neo4j\n",
    "                session.write_transaction(store_company_data, company, company_info)\n",
    "            except Exception as e:\n",
    "                print(f\"Error fetching or storing data for {company}: {e}\")"
   ]
  },
  {
   "cell_type": "code",
   "execution_count": null,
   "metadata": {
    "id": "3quTZLRq27ZS"
   },
   "outputs": [],
   "source": [
    "companies = ['AAPL', 'MSFT', 'TSLA', 'GOOGL', 'AMZN', 'META', 'NFLX', 'NVDA', 'JPM', 'V']\n",
    "fetch_and_store_data(companies)\n"
   ]
  },
  {
   "cell_type": "code",
   "execution_count": 9,
   "metadata": {
    "id": "ma1Ouz8z6mT9"
   },
   "outputs": [],
   "source": [
    "# Function to explore data\n",
    "def explore_data(query):\n",
    "    with driver.session() as session:\n",
    "        result = session.run(query)\n",
    "        return [record for record in result]"
   ]
  },
  {
   "cell_type": "code",
   "execution_count": 10,
   "metadata": {
    "colab": {
     "base_uri": "https://localhost:8080/"
    },
    "id": "YFDVSlnWzFLH",
    "outputId": "1121c9c4-bca4-4318-c1b6-3f5b6c86a313"
   },
   "outputs": [
    {
     "name": "stdout",
     "output_type": "stream",
     "text": [
      "Number of Companies: 10\n"
     ]
    }
   ],
   "source": [
    "count_query = \"MATCH (c:Company) RETURN COUNT(c) AS companyCount\"\n",
    "company_count = explore_data(count_query)\n",
    "print(\"Number of Companies:\", company_count[0]['companyCount'])\n"
   ]
  },
  {
   "cell_type": "code",
   "execution_count": 11,
   "metadata": {
    "colab": {
     "base_uri": "https://localhost:8080/"
    },
    "id": "5r2yJSk-6vpl",
    "outputId": "95acba33-1603-4f07-e8c0-6ae024c0d13a"
   },
   "outputs": [
    {
     "name": "stdout",
     "output_type": "stream",
     "text": [
      "Company: Microsoft Corporation (Symbol: MSFT)\n",
      "Company: Tesla, Inc. (Symbol: TSLA)\n",
      "Company: Alphabet Inc. (Symbol: GOOGL)\n",
      "Company: Amazon.com, Inc. (Symbol: AMZN)\n",
      "Company: Meta Platforms, Inc. (Symbol: META)\n",
      "Company: Netflix, Inc. (Symbol: NFLX)\n",
      "Company: NVIDIA Corporation (Symbol: NVDA)\n",
      "Company: JPMorgan Chase & Co. (Symbol: JPM)\n",
      "Company: Visa Inc. (Symbol: V)\n",
      "Company: Apple Inc. (Symbol: AAPL)\n"
     ]
    }
   ],
   "source": [
    "list_companies_query = \"MATCH (c:Company) RETURN c.name AS name, c.symbol AS symbol\"\n",
    "companies_list = explore_data(list_companies_query)\n",
    "for company in companies_list:\n",
    "    print(f\"Company: {company['name']} (Symbol: {company['symbol']})\")\n"
   ]
  },
  {
   "cell_type": "code",
   "execution_count": null,
   "metadata": {
    "id": "d5YzVabkR3EM"
   },
   "outputs": [],
   "source": [
    "!pip install transformers"
   ]
  },
  {
   "cell_type": "code",
   "execution_count": 26,
   "metadata": {
    "id": "FY3CYa_BbEih"
   },
   "outputs": [],
   "source": [
    "import re\n",
    "from transformers import BartForConditionalGeneration, BartTokenizer\n",
    "from datetime import datetime\n",
    "from neo4j import GraphDatabase"
   ]
  },
  {
   "cell_type": "code",
   "execution_count": 25,
   "metadata": {
    "colab": {
     "base_uri": "https://localhost:8080/"
    },
    "id": "Vdy8t513a-5_",
    "outputId": "8c9121ae-5edb-46a4-8219-405b22d9dbc0"
   },
   "outputs": [
    {
     "name": "stderr",
     "output_type": "stream",
     "text": [
      "/usr/local/lib/python3.10/dist-packages/transformers/tokenization_utils_base.py:1601: FutureWarning: `clean_up_tokenization_spaces` was not set. It will be set to `True` by default. This behavior will be depracted in transformers v4.45, and will be then set to `False` by default. For more details check this issue: https://github.com/huggingface/transformers/issues/31884\n",
      "  warnings.warn(\n"
     ]
    }
   ],
   "source": [
    "# pre-trained BART model and tokenizer\n",
    "model_name = \"facebook/bart-large\"\n",
    "tokenizer = BartTokenizer.from_pretrained(model_name)\n",
    "model = BartForConditionalGeneration.from_pretrained(model_name)"
   ]
  },
  {
   "cell_type": "code",
   "execution_count": 29,
   "metadata": {
    "id": "OivRomP5bYCu"
   },
   "outputs": [],
   "source": [
    "# retrieve data from Neo4j\n",
    "def retrieve_data(search_query):\n",
    "    with driver.session() as session:\n",
    "        cypher_query = \"\"\"\n",
    "        MATCH (c:Company)-[:HAS_PRICE]->(p:StockPrice)\n",
    "        WHERE c.name CONTAINS $search_query OR c.symbol CONTAINS $search_query\n",
    "        RETURN c.symbol AS CompanySymbol, c.name AS CompanyName, p.date AS Date, p.price AS Price\n",
    "        ORDER BY p.date DESC\n",
    "        LIMIT 10\n",
    "        \"\"\"\n",
    "        result = session.run(cypher_query, search_query=search_query)\n",
    "\n",
    "        retrieved_data = []\n",
    "        for record in result:\n",
    "            date_obj = record[\"Date\"]  # Neo4j DateTime object\n",
    "            formatted_date = date_obj.strftime('%Y-%m-%d')\n",
    "            retrieved_data.append({\n",
    "                'company': record['CompanyName'],\n",
    "                'symbol': record['CompanySymbol'],\n",
    "                'date': formatted_date,\n",
    "                'price': record['Price']\n",
    "            })\n",
    "        return retrieved_data"
   ]
  },
  {
   "cell_type": "code",
   "execution_count": 30,
   "metadata": {
    "id": "FcftoHyPa-9c"
   },
   "outputs": [],
   "source": [
    "# memory as a dictionary\n",
    "chat_memory = {\n",
    "    \"last_company\": None,  # last queried company\n",
    "    \"history\": []          # conversation history\n",
    "}\n",
    "\n",
    "# Update chat memory\n",
    "def update_memory(company_name, user_prompt, bot_response):\n",
    "    chat_memory[\"last_company\"] = company_name\n",
    "    chat_memory[\"history\"].append({\"user\": user_prompt, \"bot\": bot_response})"
   ]
  },
  {
   "cell_type": "code",
   "execution_count": 31,
   "metadata": {
    "id": "WUOUkVsRbwUH"
   },
   "outputs": [],
   "source": [
    "#  clean the generated response\n",
    "def clean_response(response):\n",
    "    cleaned_response = re.sub(r'[^\\x20-\\x7E]', '', response)  # Keep only printable ASCII characters\n",
    "    return cleaned_response\n",
    "\n",
    "# Generate response based on data and prompt\n",
    "def generate_response(retrieved_data, prompt):\n",
    "    context = \"\\n\".join([f\"On {data['date']}, {data['company']} closed at ${data['price']:.2f}.\" for data in retrieved_data])\n",
    "    narrative = f\"{prompt}\\nHere’s the stock performance over the last year:\\n{context}\"\n",
    "\n",
    "    inputs = tokenizer(narrative, return_tensors=\"pt\", max_length=1024, truncation=True)\n",
    "    outputs = model.generate(**inputs, max_new_tokens=50)\n",
    "    response = tokenizer.decode(outputs[0], skip_special_tokens=True)\n",
    "    return clean_response(response)"
   ]
  },
  {
   "cell_type": "code",
   "execution_count": 32,
   "metadata": {
    "id": "yOQHFOhxcCkd"
   },
   "outputs": [],
   "source": [
    "# Recognized companies list\n",
    "RECOGNIZED_COMPANIES = [\"Apple\", \"Meta\", \"Google\", \"Microsoft\", \"Amazon\", \"Tesla\", \"Netflix\"]\n",
    "\n",
    "# Function to handle user query, with memory for context\n",
    "def user_query(prompt):\n",
    "    # Extract keywords (company names or symbols) from the prompt\n",
    "    matched_companies = [company for company in RECOGNIZED_COMPANIES if company.lower() in prompt.lower()]\n",
    "\n",
    "    # Default to the last company if none found in the prompt\n",
    "    if not matched_companies:\n",
    "        keywords = chat_memory[\"last_company\"]\n",
    "        if not keywords:\n",
    "            return \"Please specify a company.\"\n",
    "    else:\n",
    "        keywords = matched_companies[0]\n",
    "\n",
    "    # Retrieve data and generate response\n",
    "    retrieved_data = retrieve_data(keywords)\n",
    "    if not retrieved_data:\n",
    "        return f\"No data found for the company '{keywords}'.\"\n",
    "\n",
    "    response = generate_response(retrieved_data, prompt)\n",
    "\n",
    "    # Update memory\n",
    "    update_memory(keywords, prompt, response)\n",
    "\n",
    "    return response"
   ]
  },
  {
   "cell_type": "code",
   "execution_count": 33,
   "metadata": {
    "colab": {
     "base_uri": "https://localhost:8080/"
    },
    "id": "BgbyCmJ3cCoE",
    "outputId": "43898b35-a342-492a-c5cb-39bd8b793b27"
   },
   "outputs": [
    {
     "name": "stdout",
     "output_type": "stream",
     "text": [
      "Show Apple stock performance on  2024Heres the stock performance over the last year: fixmeOn 2024-10-31, Apple Inc. closed at $290.62.\n"
     ]
    }
   ],
   "source": [
    "# Example usage in a conversational loop\n",
    "user_input = \"Show Apple stock performance on  2024\"\n",
    "output = user_query(user_input)\n",
    "print(output)"
   ]
  },
  {
   "cell_type": "code",
   "execution_count": 34,
   "metadata": {
    "colab": {
     "base_uri": "https://localhost:8080/"
    },
    "id": "_HKgVhouciqN",
    "outputId": "d195f187-371e-4f11-f3b8-a05c56ddac86"
   },
   "outputs": [
    {
     "name": "stdout",
     "output_type": "stream",
     "text": [
      "What about the last six months?=-=-=-=-=-=-=-=-=-=-=-=-=-=-=-=-=-=-=-=-=-=-=-=-=-=-=-=-=-=-=-On 2024-10-17, Apple Inc. closed at $281.62.\n"
     ]
    }
   ],
   "source": [
    "# Follow-up query example using memory\n",
    "user_input_followup = \"What about the last six months?\"\n",
    "output_followup = user_query(user_input_followup)\n",
    "print(output_followup)"
   ]
  }
 ],
 "metadata": {
  "colab": {
   "provenance": []
  },
  "kernelspec": {
   "display_name": "Python 3",
   "name": "python3"
  },
  "language_info": {
   "name": "python"
  }
 },
 "nbformat": 4,
 "nbformat_minor": 0
}
