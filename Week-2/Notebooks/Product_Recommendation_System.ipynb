{
  "cells": [
    {
      "cell_type": "markdown",
      "metadata": {
        "id": "wH1by7jvIq3s"
      },
      "source": [
        "### **Import Libraries**"
      ]
    },
    {
      "cell_type": "code",
      "execution_count": null,
      "metadata": {
        "id": "uK9tnFdHI1Lx"
      },
      "outputs": [],
      "source": [
        "!pip install python-dotenv"
      ]
    },
    {
      "cell_type": "code",
      "execution_count": null,
      "metadata": {
        "id": "ILQUpesIJL06"
      },
      "outputs": [],
      "source": [
        "!pip install sentence-transformers"
      ]
    },
    {
      "cell_type": "code",
      "execution_count": null,
      "metadata": {
        "id": "VcPvxHtkJg_V"
      },
      "outputs": [],
      "source": [
        "!pip install chromadb"
      ]
    },
    {
      "cell_type": "code",
      "execution_count": 3,
      "metadata": {
        "id": "a6KjARoOIho4"
      },
      "outputs": [],
      "source": [
        "import pandas as pd\n",
        "import os\n",
        "from tqdm.auto import tqdm\n",
        "from sentence_transformers import SentenceTransformer\n",
        "import chromadb\n",
        "from chromadb import Documents, EmbeddingFunction, Embeddings\n",
        "from transformers import pipeline\n"
      ]
    },
    {
      "cell_type": "markdown",
      "metadata": {
        "id": "Z_jpFRJkIoVU"
      },
      "source": [
        "### **Load Data**"
      ]
    },
    {
      "cell_type": "code",
      "execution_count": 4,
      "metadata": {
        "id": "HTaYRWcJI7ZL"
      },
      "outputs": [],
      "source": [
        "# Load Data\n",
        "df = pd.read_csv('/content/Amazon Fashion.csv')\n",
        "\n",
        "# Data Cleaning\n",
        "remov = ['main_category', 'sub_category', 'image', 'link', 'discount_price']\n",
        "data = df.drop(columns=remov)"
      ]
    },
    {
      "cell_type": "code",
      "execution_count": null,
      "metadata": {
        "colab": {
          "base_uri": "https://localhost:8080/"
        },
        "id": "vFyLu4nVJxhD",
        "outputId": "1fd004e6-d13f-4264-e16d-915d1d01b0df"
      },
      "outputs": [],
      "source": [
        "data['ratings'] = pd.to_numeric(data['ratings'], errors='coerce')\n",
        "data['ratings'].fillna(data['ratings'].mean(), inplace=True)\n",
        "data['ratings'] = data['ratings'].astype(float).round(1)\n",
        "\n",
        "data['no_of_ratings'] = data['no_of_ratings'].str.extract('([\\d,]+)')[0]  # Extract numeric values with commas\n",
        "data['no_of_ratings'] = pd.to_numeric(data['no_of_ratings'].str.replace(',', ''), errors='coerce').fillna(0).astype(float)\n",
        "\n",
        "data['actual_price'] = data['actual_price'].str.replace('₹', '', regex=False).str.replace(',', '')\n",
        "data['actual_price'] = pd.to_numeric(data['actual_price'], errors='coerce')\n",
        "data['actual_price'].fillna(data['actual_price'].mean(), inplace=True)\n",
        "data['actual_price'] = data['actual_price'].astype(float).round(2)\n"
      ]
    },
    {
      "cell_type": "code",
      "execution_count": 6,
      "metadata": {
        "colab": {
          "base_uri": "https://localhost:8080/"
        },
        "id": "sqYQ86R7Kawc",
        "outputId": "24c028d1-e70d-42b1-b0e8-aa4569f71da9"
      },
      "outputs": [
        {
          "name": "stdout",
          "output_type": "stream",
          "text": [
            "<class 'pandas.core.frame.DataFrame'>\n",
            "RangeIndex: 2352 entries, 0 to 2351\n",
            "Data columns (total 4 columns):\n",
            " #   Column         Non-Null Count  Dtype  \n",
            "---  ------         --------------  -----  \n",
            " 0   name           2352 non-null   object \n",
            " 1   ratings        2352 non-null   float64\n",
            " 2   no_of_ratings  2352 non-null   float64\n",
            " 3   actual_price   2352 non-null   float64\n",
            "dtypes: float64(3), object(1)\n",
            "memory usage: 73.6+ KB\n"
          ]
        }
      ],
      "source": [
        "data.info()"
      ]
    },
    {
      "cell_type": "markdown",
      "metadata": {
        "id": "PLLv2jk9J652"
      },
      "source": [
        "### **Define Embedding Model and ChromaDB Setup**"
      ]
    },
    {
      "cell_type": "code",
      "execution_count": null,
      "metadata": {
        "colab": {
          "base_uri": "https://localhost:8080/",
          "height": 105,
          "referenced_widgets": [
            "0d9ef7c38cee4b87a1f36348ef315730",
            "c37335c9416647e99ece37136cd78972",
            "d9acb6249b4c4621a24dc05baac3a9e8",
            "0960d6e569624c608d55aabc6f1122fa",
            "051c5f5d9d2343938b0ebc48a7c9c847",
            "6e4ed09cfc294403bed5e4104da16659",
            "d214951f70d44c45a29009768697b1b3",
            "adc2e292d8824882a649b61d6a76e04e",
            "63ece0200c3b497b9c3180aeeac2d91c",
            "ddefc574599e432d9a0448f52d3cf475",
            "c0ab3ab5297d4c45b82f7383ab056cf9"
          ]
        },
        "id": "IQsLOTJ4J6jM",
        "outputId": "0bc87755-0416-468e-a6f3-871d0138949f"
      },
      "outputs": [],
      "source": [
        "embedding_model = SentenceTransformer('all-MiniLM-L6-v2')\n",
        "\n",
        "class MyEmbeddingFunction(EmbeddingFunction):\n",
        "    def __call__(self, input: Documents) -> Embeddings:\n",
        "        return embedding_model.encode(input).tolist()\n",
        "\n",
        "\n",
        "embed_fn = MyEmbeddingFunction()\n",
        "\n",
        "#  ChromaDB with a persistent client\n",
        "client = chromadb.PersistentClient(path=\"./chromadb\")\n",
        "\n",
        "# Create or retrieve the collection with the custom embedding function\n",
        "collection = client.get_or_create_collection(\n",
        "    name=\"product-recommendation-system\",\n",
        "    embedding_function=embed_fn\n",
        ")\n",
        "\n",
        "# Upsert Data into ChromaDB\n",
        "batch_size = 50\n",
        "for i in tqdm(range(0, len(data), batch_size)):\n",
        "    i_end = min(i + batch_size, len(data))\n",
        "    batch = data.iloc[i:i_end]\n",
        "    batch_titles = batch['name'].astype(str).tolist()\n",
        "    batch_ids = [str(index) for index in batch.index]\n",
        "    batch_metadata = batch[['actual_price', 'ratings', 'no_of_ratings']].to_dict(orient='records')\n",
        "\n",
        "    # Generate embeddings for the batch\n",
        "    batch_embeddings = embedding_model.encode(batch_titles).tolist()\n",
        "\n",
        "    # Upsert to ChromaDB\n",
        "    collection.upsert(\n",
        "        ids=batch_ids,\n",
        "        metadatas=batch_metadata,\n",
        "        documents=batch_titles,\n",
        "        embeddings=batch_embeddings,\n",
        "    )\n"
      ]
    },
    {
      "cell_type": "markdown",
      "metadata": {
        "id": "6T-xx6AALhuI"
      },
      "source": [
        "### **Retriever Function**"
      ]
    },
    {
      "cell_type": "code",
      "execution_count": 8,
      "metadata": {
        "id": "u0oTfPCDLiBa"
      },
      "outputs": [],
      "source": [
        "from functools import lru_cache\n",
        "\n",
        "@lru_cache(maxsize=100)\n",
        "def retrieve_products(user_query, n_results=3):\n",
        "    \"\"\"Retrieve products similar to the user query, with caching.\"\"\"\n",
        "    retriever_results = collection.query(\n",
        "        query_texts=[user_query],\n",
        "        n_results=n_results,\n",
        "    )\n",
        "    return retriever_results\n"
      ]
    },
    {
      "cell_type": "markdown",
      "metadata": {
        "id": "k8WuWq01LySL"
      },
      "source": [
        "### **Generator Function**"
      ]
    },
    {
      "cell_type": "code",
      "execution_count": 9,
      "metadata": {
        "id": "TER86HB6oazG"
      },
      "outputs": [],
      "source": [
        "from transformers import LlamaTokenizer, LlamaForCausalLM\n",
        "import torch\n"
      ]
    },
    {
      "cell_type": "code",
      "execution_count": 12,
      "metadata": {
        "colab": {
          "base_uri": "https://localhost:8080/"
        },
        "id": "VpXJMKn1oefu",
        "outputId": "96ea000e-0187-40b9-c091-a2d99e507a74"
      },
      "outputs": [
        {
          "name": "stderr",
          "output_type": "stream",
          "text": [
            "/usr/local/lib/python3.10/dist-packages/transformers/tokenization_utils_base.py:1601: FutureWarning: `clean_up_tokenization_spaces` was not set. It will be set to `True` by default. This behavior will be depracted in transformers v4.45, and will be then set to `False` by default. For more details check this issue: https://github.com/huggingface/transformers/issues/31884\n",
            "  warnings.warn(\n"
          ]
        }
      ],
      "source": [
        "from transformers import pipeline\n",
        "\n",
        "generator = pipeline(\"text-generation\", model=\"gpt2\",device=0 )\n"
      ]
    },
    {
      "cell_type": "code",
      "execution_count": 34,
      "metadata": {
        "id": "k2ZBYVzYMCSl"
      },
      "outputs": [],
      "source": [
        "def recommend_products(user_query):\n",
        "    \"\"\"Complete recommendation process including retrieval, generation, and display.\"\"\"\n",
        "\n",
        "\n",
        "    retriever_results = retrieve_products(user_query)\n",
        "\n",
        "    recommendations = []\n",
        "    documents = retriever_results.get('documents', [[]])[0]\n",
        "    metadatas = retriever_results.get('metadatas', [[]])[0]\n",
        "\n",
        "\n",
        "    llm_inputs = [\n",
        "        f\"Generate a concise, engaging, and non-repetitive description for this product: {doc}. It costs ₹{meta.get('actual_price', 'N/A')}. Rating: {meta.get('ratings', 'N/A')} stars from {meta.get('no_of_ratings', 'N/A')} ratings.\"\n",
        "        for doc, meta in zip(documents, metadatas)\n",
        "    ]\n",
        "\n",
        "    # Generate descriptions in batch\n",
        "    llm_outputs = generator(\n",
        "        llm_inputs,\n",
        "        max_new_tokens=50,\n",
        "        num_return_sequences=1,\n",
        "        truncation=True,\n",
        "        temperature=0.7,\n",
        "        pad_token_id=50256\n",
        "    )\n",
        "\n",
        "    for doc, meta, output in zip(documents, metadatas, llm_outputs):\n",
        "        actual_price = meta.get('actual_price', 'N/A')\n",
        "        ratings = meta.get('ratings', 'N/A')\n",
        "        rating_count = meta.get('no_of_ratings', 'N/A')\n",
        "\n",
        "        recommendations.append({\n",
        "            'Product': doc,\n",
        "            'Actual Price': f\"₹{actual_price}\",\n",
        "            'Rating': ratings,\n",
        "            'Rating Count': rating_count,\n",
        "            'Description': output[0]['generated_text'] if isinstance(output, list) else print(\"None\")\n",
        "        })\n",
        "\n",
        "    # Print out the recommendations\n",
        "    for rec in recommendations:\n",
        "        print(\"=================== RECOMENDED PRODUCT======================\")\n",
        "        print(f\"Product: {rec['Product']}\")\n",
        "        print(f\"Price: {rec['Actual Price']}\")\n",
        "        print(f\"Rating: {rec['Rating']} stars from {rec['Rating Count']} ratings\")\n",
        "        print(20*\"--\")\n",
        "        print(f\"LLM given Description: {rec['Description']}\\n\")\n"
      ]
    },
    {
      "cell_type": "code",
      "execution_count": 37,
      "metadata": {
        "colab": {
          "base_uri": "https://localhost:8080/"
        },
        "id": "VbMqraHJ1Tm_",
        "outputId": "d85dd386-6565-417f-d498-6ce1567ce009"
      },
      "outputs": [
        {
          "name": "stdout",
          "output_type": "stream",
          "text": [
            "=================== RECOMENDED PRODUCT======================\n",
            "Product: Simple Kind to Skin Replenishing Rich Moisturiser| Face Cream for All Skin Types| No Perfume| No Harsh Chemicals & Paraben...\n",
            "Price: ₹475.0\n",
            "Rating: 4.2 stars from 2902.0 ratings\n",
            "----------------------------------------\n",
            "LLM given Description: Generate a concise, engaging, and non-repetitive description for this product: Simple Kind to Skin Replenishing Rich Moisturiser| Face Cream for All Skin Types| No Perfume| No Harsh Chemicals & Paraben.... It costs ₹475.0. Rating: 4.2 stars from 2902.0 ratings.\n",
            "\n",
            "This product is rated as a \"No Refurbished\" by the CAA. Please contact your local authorities for further details.\n",
            "\n",
            "Product Description\n",
            "\n",
            "This unique, low-cost lip gloss is a hydrating, moisture-\n",
            "\n",
            "=================== RECOMENDED PRODUCT======================\n",
            "Product: Ustraa Total De-Tan Kit - De-Tan Face Cream, 50G - De-Tan Face Scrub With Walnut Granules, 100G- Dermatologically Tested, ...\n",
            "Price: ₹600.0\n",
            "Rating: 3.9 stars from 1355.0 ratings\n",
            "----------------------------------------\n",
            "LLM given Description: Generate a concise, engaging, and non-repetitive description for this product: Ustraa Total De-Tan Kit - De-Tan Face Cream, 50G - De-Tan Face Scrub With Walnut Granules, 100G- Dermatologically Tested, .... It costs ₹600.0. Rating: 3.9 stars from 1355.0 ratings.\n",
            "\n",
            "=================== RECOMENDED PRODUCT======================\n",
            "Product: Mamaearth Anti-Pollution Daily Face Cream for Dry & Oily Skin with Turmeric & Pollustop® For a Bright Glowing Skin 80ml\n",
            "Price: ₹349.0\n",
            "Rating: 3.9 stars from 4294.0 ratings\n",
            "----------------------------------------\n",
            "LLM given Description: Generate a concise, engaging, and non-repetitive description for this product: Mamaearth Anti-Pollution Daily Face Cream for Dry & Oily Skin with Turmeric & Pollustop® For a Bright Glowing Skin 80ml. It costs ₹349.0. Rating: 3.9 stars from 4294.0 ratings.\n",
            "\n",
            "This product is not approved by the FDA, and may not be used for the treatment of any health condition, disease or condition that requires the use of any pesticide.\n",
            "\n",
            "You should carefully read the label of your product before using this product\n",
            "\n"
          ]
        }
      ],
      "source": [
        "# User input for product recommendation\n",
        "query = \"face cream\"\n",
        "recommend_products(query)"
      ]
    }
  ],
  "metadata": {
    "accelerator": "GPU",
    "colab": {
      "gpuType": "T4",
      "provenance": []
    },
    "kernelspec": {
      "display_name": "Python 3",
      "name": "python3"
    },
    "language_info": {
      "name": "python"
    },
    "widgets": {
      "application/vnd.jupyter.widget-state+json": {
        "051c5f5d9d2343938b0ebc48a7c9c847": {
          "model_module": "@jupyter-widgets/base",
          "model_module_version": "1.2.0",
          "model_name": "LayoutModel",
          "state": {
            "_model_module": "@jupyter-widgets/base",
            "_model_module_version": "1.2.0",
            "_model_name": "LayoutModel",
            "_view_count": null,
            "_view_module": "@jupyter-widgets/base",
            "_view_module_version": "1.2.0",
            "_view_name": "LayoutView",
            "align_content": null,
            "align_items": null,
            "align_self": null,
            "border": null,
            "bottom": null,
            "display": null,
            "flex": null,
            "flex_flow": null,
            "grid_area": null,
            "grid_auto_columns": null,
            "grid_auto_flow": null,
            "grid_auto_rows": null,
            "grid_column": null,
            "grid_gap": null,
            "grid_row": null,
            "grid_template_areas": null,
            "grid_template_columns": null,
            "grid_template_rows": null,
            "height": null,
            "justify_content": null,
            "justify_items": null,
            "left": null,
            "margin": null,
            "max_height": null,
            "max_width": null,
            "min_height": null,
            "min_width": null,
            "object_fit": null,
            "object_position": null,
            "order": null,
            "overflow": null,
            "overflow_x": null,
            "overflow_y": null,
            "padding": null,
            "right": null,
            "top": null,
            "visibility": null,
            "width": null
          }
        },
        "0960d6e569624c608d55aabc6f1122fa": {
          "model_module": "@jupyter-widgets/controls",
          "model_module_version": "1.5.0",
          "model_name": "HTMLModel",
          "state": {
            "_dom_classes": [],
            "_model_module": "@jupyter-widgets/controls",
            "_model_module_version": "1.5.0",
            "_model_name": "HTMLModel",
            "_view_count": null,
            "_view_module": "@jupyter-widgets/controls",
            "_view_module_version": "1.5.0",
            "_view_name": "HTMLView",
            "description": "",
            "description_tooltip": null,
            "layout": "IPY_MODEL_ddefc574599e432d9a0448f52d3cf475",
            "placeholder": "​",
            "style": "IPY_MODEL_c0ab3ab5297d4c45b82f7383ab056cf9",
            "value": " 48/48 [00:09&lt;00:00,  4.62it/s]"
          }
        },
        "0d9ef7c38cee4b87a1f36348ef315730": {
          "model_module": "@jupyter-widgets/controls",
          "model_module_version": "1.5.0",
          "model_name": "HBoxModel",
          "state": {
            "_dom_classes": [],
            "_model_module": "@jupyter-widgets/controls",
            "_model_module_version": "1.5.0",
            "_model_name": "HBoxModel",
            "_view_count": null,
            "_view_module": "@jupyter-widgets/controls",
            "_view_module_version": "1.5.0",
            "_view_name": "HBoxView",
            "box_style": "",
            "children": [
              "IPY_MODEL_c37335c9416647e99ece37136cd78972",
              "IPY_MODEL_d9acb6249b4c4621a24dc05baac3a9e8",
              "IPY_MODEL_0960d6e569624c608d55aabc6f1122fa"
            ],
            "layout": "IPY_MODEL_051c5f5d9d2343938b0ebc48a7c9c847"
          }
        },
        "63ece0200c3b497b9c3180aeeac2d91c": {
          "model_module": "@jupyter-widgets/controls",
          "model_module_version": "1.5.0",
          "model_name": "ProgressStyleModel",
          "state": {
            "_model_module": "@jupyter-widgets/controls",
            "_model_module_version": "1.5.0",
            "_model_name": "ProgressStyleModel",
            "_view_count": null,
            "_view_module": "@jupyter-widgets/base",
            "_view_module_version": "1.2.0",
            "_view_name": "StyleView",
            "bar_color": null,
            "description_width": ""
          }
        },
        "6e4ed09cfc294403bed5e4104da16659": {
          "model_module": "@jupyter-widgets/base",
          "model_module_version": "1.2.0",
          "model_name": "LayoutModel",
          "state": {
            "_model_module": "@jupyter-widgets/base",
            "_model_module_version": "1.2.0",
            "_model_name": "LayoutModel",
            "_view_count": null,
            "_view_module": "@jupyter-widgets/base",
            "_view_module_version": "1.2.0",
            "_view_name": "LayoutView",
            "align_content": null,
            "align_items": null,
            "align_self": null,
            "border": null,
            "bottom": null,
            "display": null,
            "flex": null,
            "flex_flow": null,
            "grid_area": null,
            "grid_auto_columns": null,
            "grid_auto_flow": null,
            "grid_auto_rows": null,
            "grid_column": null,
            "grid_gap": null,
            "grid_row": null,
            "grid_template_areas": null,
            "grid_template_columns": null,
            "grid_template_rows": null,
            "height": null,
            "justify_content": null,
            "justify_items": null,
            "left": null,
            "margin": null,
            "max_height": null,
            "max_width": null,
            "min_height": null,
            "min_width": null,
            "object_fit": null,
            "object_position": null,
            "order": null,
            "overflow": null,
            "overflow_x": null,
            "overflow_y": null,
            "padding": null,
            "right": null,
            "top": null,
            "visibility": null,
            "width": null
          }
        },
        "adc2e292d8824882a649b61d6a76e04e": {
          "model_module": "@jupyter-widgets/base",
          "model_module_version": "1.2.0",
          "model_name": "LayoutModel",
          "state": {
            "_model_module": "@jupyter-widgets/base",
            "_model_module_version": "1.2.0",
            "_model_name": "LayoutModel",
            "_view_count": null,
            "_view_module": "@jupyter-widgets/base",
            "_view_module_version": "1.2.0",
            "_view_name": "LayoutView",
            "align_content": null,
            "align_items": null,
            "align_self": null,
            "border": null,
            "bottom": null,
            "display": null,
            "flex": null,
            "flex_flow": null,
            "grid_area": null,
            "grid_auto_columns": null,
            "grid_auto_flow": null,
            "grid_auto_rows": null,
            "grid_column": null,
            "grid_gap": null,
            "grid_row": null,
            "grid_template_areas": null,
            "grid_template_columns": null,
            "grid_template_rows": null,
            "height": null,
            "justify_content": null,
            "justify_items": null,
            "left": null,
            "margin": null,
            "max_height": null,
            "max_width": null,
            "min_height": null,
            "min_width": null,
            "object_fit": null,
            "object_position": null,
            "order": null,
            "overflow": null,
            "overflow_x": null,
            "overflow_y": null,
            "padding": null,
            "right": null,
            "top": null,
            "visibility": null,
            "width": null
          }
        },
        "c0ab3ab5297d4c45b82f7383ab056cf9": {
          "model_module": "@jupyter-widgets/controls",
          "model_module_version": "1.5.0",
          "model_name": "DescriptionStyleModel",
          "state": {
            "_model_module": "@jupyter-widgets/controls",
            "_model_module_version": "1.5.0",
            "_model_name": "DescriptionStyleModel",
            "_view_count": null,
            "_view_module": "@jupyter-widgets/base",
            "_view_module_version": "1.2.0",
            "_view_name": "StyleView",
            "description_width": ""
          }
        },
        "c37335c9416647e99ece37136cd78972": {
          "model_module": "@jupyter-widgets/controls",
          "model_module_version": "1.5.0",
          "model_name": "HTMLModel",
          "state": {
            "_dom_classes": [],
            "_model_module": "@jupyter-widgets/controls",
            "_model_module_version": "1.5.0",
            "_model_name": "HTMLModel",
            "_view_count": null,
            "_view_module": "@jupyter-widgets/controls",
            "_view_module_version": "1.5.0",
            "_view_name": "HTMLView",
            "description": "",
            "description_tooltip": null,
            "layout": "IPY_MODEL_6e4ed09cfc294403bed5e4104da16659",
            "placeholder": "​",
            "style": "IPY_MODEL_d214951f70d44c45a29009768697b1b3",
            "value": "100%"
          }
        },
        "d214951f70d44c45a29009768697b1b3": {
          "model_module": "@jupyter-widgets/controls",
          "model_module_version": "1.5.0",
          "model_name": "DescriptionStyleModel",
          "state": {
            "_model_module": "@jupyter-widgets/controls",
            "_model_module_version": "1.5.0",
            "_model_name": "DescriptionStyleModel",
            "_view_count": null,
            "_view_module": "@jupyter-widgets/base",
            "_view_module_version": "1.2.0",
            "_view_name": "StyleView",
            "description_width": ""
          }
        },
        "d9acb6249b4c4621a24dc05baac3a9e8": {
          "model_module": "@jupyter-widgets/controls",
          "model_module_version": "1.5.0",
          "model_name": "FloatProgressModel",
          "state": {
            "_dom_classes": [],
            "_model_module": "@jupyter-widgets/controls",
            "_model_module_version": "1.5.0",
            "_model_name": "FloatProgressModel",
            "_view_count": null,
            "_view_module": "@jupyter-widgets/controls",
            "_view_module_version": "1.5.0",
            "_view_name": "ProgressView",
            "bar_style": "success",
            "description": "",
            "description_tooltip": null,
            "layout": "IPY_MODEL_adc2e292d8824882a649b61d6a76e04e",
            "max": 48,
            "min": 0,
            "orientation": "horizontal",
            "style": "IPY_MODEL_63ece0200c3b497b9c3180aeeac2d91c",
            "value": 48
          }
        },
        "ddefc574599e432d9a0448f52d3cf475": {
          "model_module": "@jupyter-widgets/base",
          "model_module_version": "1.2.0",
          "model_name": "LayoutModel",
          "state": {
            "_model_module": "@jupyter-widgets/base",
            "_model_module_version": "1.2.0",
            "_model_name": "LayoutModel",
            "_view_count": null,
            "_view_module": "@jupyter-widgets/base",
            "_view_module_version": "1.2.0",
            "_view_name": "LayoutView",
            "align_content": null,
            "align_items": null,
            "align_self": null,
            "border": null,
            "bottom": null,
            "display": null,
            "flex": null,
            "flex_flow": null,
            "grid_area": null,
            "grid_auto_columns": null,
            "grid_auto_flow": null,
            "grid_auto_rows": null,
            "grid_column": null,
            "grid_gap": null,
            "grid_row": null,
            "grid_template_areas": null,
            "grid_template_columns": null,
            "grid_template_rows": null,
            "height": null,
            "justify_content": null,
            "justify_items": null,
            "left": null,
            "margin": null,
            "max_height": null,
            "max_width": null,
            "min_height": null,
            "min_width": null,
            "object_fit": null,
            "object_position": null,
            "order": null,
            "overflow": null,
            "overflow_x": null,
            "overflow_y": null,
            "padding": null,
            "right": null,
            "top": null,
            "visibility": null,
            "width": null
          }
        }
      }
    }
  },
  "nbformat": 4,
  "nbformat_minor": 0
}
